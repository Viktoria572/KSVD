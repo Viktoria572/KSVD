{
  "nbformat": 4,
  "nbformat_minor": 0,
  "metadata": {
    "colab": {
      "provenance": []
    },
    "kernelspec": {
      "name": "python3",
      "display_name": "Python 3"
    },
    "language_info": {
      "name": "python"
    }
  },
  "cells": [
    {
      "cell_type": "markdown",
      "source": [
        "# Яременко Вікторія Лабораторна 2"
      ],
      "metadata": {
        "id": "FmxAVJCNhVqv"
      }
    },
    {
      "cell_type": "markdown",
      "source": [
        "Створити RNN для семантичного аналізу тексту з використанням моделі GRU."
      ],
      "metadata": {
        "id": "mFkvKQmYhWU1"
      }
    },
    {
      "cell_type": "code",
      "source": [
        "import numpy as np\n",
        "from tensorflow.keras.layers import Dense, GRU, Input, Embedding\n",
        "from tensorflow.keras.models import Sequential\n",
        "from tensorflow.keras.optimizers import Adam\n",
        "from tensorflow.keras.preprocessing.text import Tokenizer\n",
        "from tensorflow.keras.preprocessing.sequence import pad_sequences\n",
        "\n",
        "# Позитивні та негативні тексти\n",
        "texts_true = [\n",
        "     \"Ця книга вражає своєю глибиною та проникливістю.\",\n",
        "    \"Автор зумів майстерно розкрити головних героїв, надаючи їм життєвий досвід.\",\n",
        "    \"Читання цієї книги залишає після себе незабутні враження та відчуття вдячності.\"\n",
        "]\n",
        "\n",
        "texts_false = [\n",
        "    \"Ця книга розчарувала своїми плоскими персонажами та передбачуваним сюжетом.\",\n",
        "    \"Стиль автора в цій книзі відчувається дуже механічним та бездушним.\",\n",
        "    \"Читання цієї книги не принесло жодного задоволення, лише втрату часу та розчарування.\"\n",
        "]\n",
        "\n",
        "# Об'єднання позитивних та негативних текстів\n",
        "texts = texts_true + texts_false\n",
        "count_true = len(texts_true)\n",
        "count_false = len(texts_false)\n",
        "\n",
        "# Максимальна кількість слів у тексті та створення токенізатора\n",
        "maxWordsCount = 1000\n",
        "tokenizer = Tokenizer(num_words=maxWordsCount, filters='!–\"—#$%&amp;()*+,-./:;<=>?@[\\\\]^_`{|}~\\t\\n\\r«»', lower=True, split=' ', char_level=False)\n",
        "tokenizer.fit_on_texts(texts)\n",
        "\n",
        "# Кодування текстів у вектори та падінг до однакової довжини\n",
        "max_text_len = 10\n",
        "data = tokenizer.texts_to_sequences(texts)\n",
        "data_pad = pad_sequences(data, maxlen=max_text_len)\n",
        "\n",
        "# Побудова моделі\n",
        "model = Sequential()\n",
        "model.add(Embedding(maxWordsCount, 128, input_length=max_text_len))\n",
        "model.add(GRU(128, return_sequences=True))\n",
        "model.add(GRU(64))\n",
        "model.add(Dense(2, activation='softmax'))\n",
        "model.summary()\n",
        "\n",
        "# Компіляція та тренування моделі\n",
        "model.compile(loss='categorical_crossentropy', metrics=['accuracy'], optimizer=Adam(0.0001))\n",
        "history = model.fit(data_pad, np.array([[1, 0]]*count_true + [[0, 1]]*count_false), batch_size=32, epochs=50)\n",
        "\n",
        "# Перетворення послідовності слів у вектор та передбачення класу тексту\n",
        "t = \"Це неймовірно добра книга\".lower()\n",
        "data = tokenizer.texts_to_sequences([t])\n",
        "data_pad = pad_sequences(data, maxlen=max_text_len)\n",
        "res = model.predict(data_pad)\n",
        "\n",
        "# Виведення результатів\n",
        "print(res)\n"
      ],
      "metadata": {
        "colab": {
          "base_uri": "https://localhost:8080/"
        },
        "id": "1wIG7DDHha9t",
        "outputId": "2643e757-0200-43a1-dd89-d7ed5d3230ce"
      },
      "execution_count": 1,
      "outputs": [
        {
          "output_type": "stream",
          "name": "stdout",
          "text": [
            "Model: \"sequential\"\n",
            "_________________________________________________________________\n",
            " Layer (type)                Output Shape              Param #   \n",
            "=================================================================\n",
            " embedding (Embedding)       (None, 10, 128)           128000    \n",
            "                                                                 \n",
            " gru (GRU)                   (None, 10, 128)           99072     \n",
            "                                                                 \n",
            " gru_1 (GRU)                 (None, 64)                37248     \n",
            "                                                                 \n",
            " dense (Dense)               (None, 2)                 130       \n",
            "                                                                 \n",
            "=================================================================\n",
            "Total params: 264450 (1.01 MB)\n",
            "Trainable params: 264450 (1.01 MB)\n",
            "Non-trainable params: 0 (0.00 Byte)\n",
            "_________________________________________________________________\n",
            "Epoch 1/50\n",
            "1/1 [==============================] - 10s 10s/step - loss: 0.6879 - accuracy: 0.6667\n",
            "Epoch 2/50\n",
            "1/1 [==============================] - 0s 40ms/step - loss: 0.6864 - accuracy: 0.6667\n",
            "Epoch 3/50\n",
            "1/1 [==============================] - 0s 37ms/step - loss: 0.6849 - accuracy: 0.8333\n",
            "Epoch 4/50\n",
            "1/1 [==============================] - 0s 32ms/step - loss: 0.6835 - accuracy: 0.8333\n",
            "Epoch 5/50\n",
            "1/1 [==============================] - 0s 34ms/step - loss: 0.6820 - accuracy: 0.8333\n",
            "Epoch 6/50\n",
            "1/1 [==============================] - 0s 39ms/step - loss: 0.6805 - accuracy: 0.8333\n",
            "Epoch 7/50\n",
            "1/1 [==============================] - 0s 40ms/step - loss: 0.6789 - accuracy: 1.0000\n",
            "Epoch 8/50\n",
            "1/1 [==============================] - 0s 32ms/step - loss: 0.6774 - accuracy: 1.0000\n",
            "Epoch 9/50\n",
            "1/1 [==============================] - 0s 31ms/step - loss: 0.6758 - accuracy: 1.0000\n",
            "Epoch 10/50\n",
            "1/1 [==============================] - 0s 39ms/step - loss: 0.6743 - accuracy: 1.0000\n",
            "Epoch 11/50\n",
            "1/1 [==============================] - 0s 32ms/step - loss: 0.6726 - accuracy: 1.0000\n",
            "Epoch 12/50\n",
            "1/1 [==============================] - 0s 32ms/step - loss: 0.6710 - accuracy: 1.0000\n",
            "Epoch 13/50\n",
            "1/1 [==============================] - 0s 35ms/step - loss: 0.6694 - accuracy: 1.0000\n",
            "Epoch 14/50\n",
            "1/1 [==============================] - 0s 32ms/step - loss: 0.6677 - accuracy: 1.0000\n",
            "Epoch 15/50\n",
            "1/1 [==============================] - 0s 36ms/step - loss: 0.6659 - accuracy: 1.0000\n",
            "Epoch 16/50\n",
            "1/1 [==============================] - 0s 39ms/step - loss: 0.6642 - accuracy: 1.0000\n",
            "Epoch 17/50\n",
            "1/1 [==============================] - 0s 37ms/step - loss: 0.6624 - accuracy: 1.0000\n",
            "Epoch 18/50\n",
            "1/1 [==============================] - 0s 36ms/step - loss: 0.6605 - accuracy: 1.0000\n",
            "Epoch 19/50\n",
            "1/1 [==============================] - 0s 35ms/step - loss: 0.6586 - accuracy: 1.0000\n",
            "Epoch 20/50\n",
            "1/1 [==============================] - 0s 49ms/step - loss: 0.6567 - accuracy: 1.0000\n",
            "Epoch 21/50\n",
            "1/1 [==============================] - 0s 46ms/step - loss: 0.6547 - accuracy: 1.0000\n",
            "Epoch 22/50\n",
            "1/1 [==============================] - 0s 45ms/step - loss: 0.6526 - accuracy: 1.0000\n",
            "Epoch 23/50\n",
            "1/1 [==============================] - 0s 39ms/step - loss: 0.6505 - accuracy: 1.0000\n",
            "Epoch 24/50\n",
            "1/1 [==============================] - 0s 39ms/step - loss: 0.6483 - accuracy: 1.0000\n",
            "Epoch 25/50\n",
            "1/1 [==============================] - 0s 44ms/step - loss: 0.6461 - accuracy: 1.0000\n",
            "Epoch 26/50\n",
            "1/1 [==============================] - 0s 50ms/step - loss: 0.6438 - accuracy: 1.0000\n",
            "Epoch 27/50\n",
            "1/1 [==============================] - 0s 69ms/step - loss: 0.6414 - accuracy: 1.0000\n",
            "Epoch 28/50\n",
            "1/1 [==============================] - 0s 46ms/step - loss: 0.6389 - accuracy: 1.0000\n",
            "Epoch 29/50\n",
            "1/1 [==============================] - 0s 54ms/step - loss: 0.6364 - accuracy: 1.0000\n",
            "Epoch 30/50\n",
            "1/1 [==============================] - 0s 36ms/step - loss: 0.6338 - accuracy: 1.0000\n",
            "Epoch 31/50\n",
            "1/1 [==============================] - 0s 38ms/step - loss: 0.6310 - accuracy: 1.0000\n",
            "Epoch 32/50\n",
            "1/1 [==============================] - 0s 39ms/step - loss: 0.6282 - accuracy: 1.0000\n",
            "Epoch 33/50\n",
            "1/1 [==============================] - 0s 41ms/step - loss: 0.6253 - accuracy: 1.0000\n",
            "Epoch 34/50\n",
            "1/1 [==============================] - 0s 32ms/step - loss: 0.6223 - accuracy: 1.0000\n",
            "Epoch 35/50\n",
            "1/1 [==============================] - 0s 29ms/step - loss: 0.6192 - accuracy: 1.0000\n",
            "Epoch 36/50\n",
            "1/1 [==============================] - 0s 29ms/step - loss: 0.6159 - accuracy: 1.0000\n",
            "Epoch 37/50\n",
            "1/1 [==============================] - 0s 35ms/step - loss: 0.6126 - accuracy: 1.0000\n",
            "Epoch 38/50\n",
            "1/1 [==============================] - 0s 32ms/step - loss: 0.6091 - accuracy: 1.0000\n",
            "Epoch 39/50\n",
            "1/1 [==============================] - 0s 34ms/step - loss: 0.6055 - accuracy: 1.0000\n",
            "Epoch 40/50\n",
            "1/1 [==============================] - 0s 32ms/step - loss: 0.6018 - accuracy: 1.0000\n",
            "Epoch 41/50\n",
            "1/1 [==============================] - 0s 28ms/step - loss: 0.5979 - accuracy: 1.0000\n",
            "Epoch 42/50\n",
            "1/1 [==============================] - 0s 32ms/step - loss: 0.5939 - accuracy: 1.0000\n",
            "Epoch 43/50\n",
            "1/1 [==============================] - 0s 37ms/step - loss: 0.5897 - accuracy: 1.0000\n",
            "Epoch 44/50\n",
            "1/1 [==============================] - 0s 29ms/step - loss: 0.5854 - accuracy: 1.0000\n",
            "Epoch 45/50\n",
            "1/1 [==============================] - 0s 32ms/step - loss: 0.5809 - accuracy: 1.0000\n",
            "Epoch 46/50\n",
            "1/1 [==============================] - 0s 31ms/step - loss: 0.5763 - accuracy: 1.0000\n",
            "Epoch 47/50\n",
            "1/1 [==============================] - 0s 38ms/step - loss: 0.5715 - accuracy: 1.0000\n",
            "Epoch 48/50\n",
            "1/1 [==============================] - 0s 37ms/step - loss: 0.5665 - accuracy: 1.0000\n",
            "Epoch 49/50\n",
            "1/1 [==============================] - 0s 33ms/step - loss: 0.5613 - accuracy: 1.0000\n",
            "Epoch 50/50\n",
            "1/1 [==============================] - 0s 34ms/step - loss: 0.5559 - accuracy: 1.0000\n",
            "1/1 [==============================] - 1s 1s/step\n",
            "[[0.53591174 0.46408826]]\n"
          ]
        }
      ]
    },
    {
      "cell_type": "code",
      "source": [
        "# Визначення результату\n",
        "if res[0][0] > res[0][1]:\n",
        "    print(\"Результат. Текст позитивний.\")\n",
        "else:\n",
        "    print(\"Результат. Текст негативний.\")\n"
      ],
      "metadata": {
        "colab": {
          "base_uri": "https://localhost:8080/"
        },
        "id": "Eg2Hie4nxE2t",
        "outputId": "0bc36c9b-c72c-48c2-ae2a-d7623a1f6cac"
      },
      "execution_count": 3,
      "outputs": [
        {
          "output_type": "stream",
          "name": "stdout",
          "text": [
            "Результат. Текст позитивний.\n"
          ]
        }
      ]
    },
    {
      "cell_type": "code",
      "source": [
        "reverse_word_map = dict(map(reversed, tokenizer.word_index.items()))\n",
        "\n",
        "def sequence_to_text(list_of_indices):\n",
        "    words = [reverse_word_map.get(letter) for letter in list_of_indices]\n",
        "    return \" \".join(words)\n",
        "\n",
        "t1 = \"Це жахлива книга\".lower()\n",
        "data1 = tokenizer.texts_to_sequences([t1])\n",
        "data1_pad = pad_sequences(data1, maxlen=max_text_len)\n",
        "print(sequence_to_text(data1[0]))\n",
        "\n",
        "res1 = model.predict(data1_pad)\n"
      ],
      "metadata": {
        "colab": {
          "base_uri": "https://localhost:8080/"
        },
        "id": "c9q0mGWnxxkK",
        "outputId": "301491c8-75e7-4bef-8b79-5f938ad03c00"
      },
      "execution_count": 6,
      "outputs": [
        {
          "output_type": "stream",
          "name": "stdout",
          "text": [
            "це\n",
            "1/1 [==============================] - 0s 32ms/step\n"
          ]
        }
      ]
    },
    {
      "cell_type": "code",
      "source": [
        "# Визначення результату\n",
        "if res[0][0] > res[0][1]:\n",
        "    print(\"Результат. Текст негативний.\")\n",
        "else:\n",
        "    print(\"Результат. Текст позитивний.\")\n"
      ],
      "metadata": {
        "colab": {
          "base_uri": "https://localhost:8080/"
        },
        "id": "u1c1wm8uxiD9",
        "outputId": "2a7067f5-163e-4a58-ee61-01cfad9a5868"
      },
      "execution_count": 16,
      "outputs": [
        {
          "output_type": "stream",
          "name": "stdout",
          "text": [
            "Результат. Текст негативний.\n"
          ]
        }
      ]
    }
  ]
}